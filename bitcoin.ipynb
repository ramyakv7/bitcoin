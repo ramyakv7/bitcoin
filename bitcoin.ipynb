{
 "cells": [
  {
   "cell_type": "code",
   "execution_count": 2,
   "id": "69086dd5",
   "metadata": {},
   "outputs": [
    {
     "name": "stdout",
     "output_type": "stream",
     "text": [
      "{'time': {'updated': 'Jan 15, 2023 19:54:00 UTC', 'updatedISO': '2023-01-15T19:54:00+00:00', 'updateduk': 'Jan 15, 2023 at 19:54 GMT'}, 'disclaimer': 'This data was produced from the CoinDesk Bitcoin Price Index (USD). Non-USD currency data converted using hourly conversion rate from openexchangerates.org', 'chartName': 'Bitcoin', 'bpi': {'USD': {'code': 'USD', 'symbol': '&#36;', 'rate': '20,860.7418', 'description': 'United States Dollar', 'rate_float': 20860.7418}, 'GBP': {'code': 'GBP', 'symbol': '&pound;', 'rate': '17,431.0690', 'description': 'British Pound Sterling', 'rate_float': 17431.069}, 'EUR': {'code': 'EUR', 'symbol': '&euro;', 'rate': '20,321.4082', 'description': 'Euro', 'rate_float': 20321.4082}}}\n"
     ]
    }
   ],
   "source": [
    "import requests # http://docs.python-requests.org/en/master/\n",
    "response = requests.get('https://api.coindesk.com/v1/bpi/currentprice.json')\n",
    "data = response.json()\n",
    "print(data)"
   ]
  },
  {
   "cell_type": "code",
   "execution_count": 6,
   "id": "da4d0dd8",
   "metadata": {},
   "outputs": [
    {
     "name": "stdout",
     "output_type": "stream",
     "text": [
      "USD : 20,860.7527 United States Dollar\n",
      "GBP : 17,431.0781 British Pound Sterling\n",
      "EUR : 20,321.4188 Euro\n"
     ]
    }
   ],
   "source": [
    "#Importing necessary libraries\n",
    "import requests\n",
    "\n",
    "def getBitcoinValue():\n",
    "    #Getting the data from the API\n",
    "    url = 'https://api.coindesk.com/v1/bpi/currentprice.json'\n",
    "    response = requests.get(url)\n",
    "    data = response.json()\n",
    "    #Getting the req information from API\n",
    "    for currPrice in data['bpi'].values():\n",
    "        print(f\"{currPrice['code']} : {currPrice['rate']} {currPrice['description']}\")\n",
    "\n",
    "if __name__ == \"__main__\":\n",
    "    getBitcoinValue() #calling the function"
   ]
  },
  {
   "cell_type": "code",
   "execution_count": null,
   "id": "e375137a",
   "metadata": {},
   "outputs": [],
   "source": []
  }
 ],
 "metadata": {
  "kernelspec": {
   "display_name": "Python 3",
   "language": "python",
   "name": "python3"
  },
  "language_info": {
   "codemirror_mode": {
    "name": "ipython",
    "version": 3
   },
   "file_extension": ".py",
   "mimetype": "text/x-python",
   "name": "python",
   "nbconvert_exporter": "python",
   "pygments_lexer": "ipython3",
   "version": "3.8.8"
  }
 },
 "nbformat": 4,
 "nbformat_minor": 5
}
